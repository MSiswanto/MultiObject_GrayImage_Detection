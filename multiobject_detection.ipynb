{
  "nbformat": 4,
  "nbformat_minor": 0,
  "metadata": {
    "colab": {
      "provenance": [],
      "authorship_tag": "ABX9TyONIZIM1KTfHtMtL7zYZ/vR",
      "include_colab_link": true
    },
    "kernelspec": {
      "name": "python3",
      "display_name": "Python 3"
    },
    "language_info": {
      "name": "python"
    }
  },
  "cells": [
    {
      "cell_type": "markdown",
      "metadata": {
        "id": "view-in-github",
        "colab_type": "text"
      },
      "source": [
        "<a href=\"https://colab.research.google.com/github/MSiswanto/MultiObject_GrayImage_Detection/blob/main/multiobject_detection.ipynb\" target=\"_parent\"><img src=\"https://colab.research.google.com/assets/colab-badge.svg\" alt=\"Open In Colab\"/></a>"
      ]
    },
    {
      "cell_type": "code",
      "execution_count": null,
      "metadata": {
        "id": "R428vtGrpN8f"
      },
      "outputs": [],
      "source": [
        "import rospy\n",
        "import cv2\n",
        "import numpy as np\n",
        "from sensor_msgs.msg import Image\n",
        "from cv_bridge import CvBridge\n",
        "from sort import Sort\n",
        "\n",
        "# Define the maximum number of objects to track\n",
        "max_objects = 10\n",
        "\n",
        "# Create an instance of the SORT algorithm\n",
        "sort = Sort(max_objects)\n",
        "\n",
        "# Define the colors to use for each object's bounding box\n",
        "colors = np.random.uniform(0, 255, size=(max_objects, 3))\n",
        "\n",
        "# Define a deque to store the previous positions of each object\n",
        "positions = {}\n",
        "\n",
        "# Define the ROS node\n",
        "rospy.init_node('object_tracker')\n",
        "\n",
        "# Define the image transport publisher and subscriber\n",
        "image_pub = rospy.Publisher('/tracked_objects', Image, queue_size=10)\n",
        "image_sub = rospy.Subscriber('/image_raw', Image, image_callback)\n",
        "\n",
        "# Define the CvBridge object\n",
        "bridge = CvBridge()\n",
        "\n",
        "def image_callback(msg):\n",
        "    # Convert the ROS image message to a OpenCV image\n",
        "    frame = bridge.imgmsg_to_cv2(msg, desired_encoding='bgr8')\n",
        "    \n",
        "    # Convert the frame to grayscale\n",
        "    gray = cv2.cvtColor(frame, cv2.COLOR_BGR2GRAY)\n",
        "    \n",
        "    # Detect the objects in the frame\n",
        "    objects = detect_objects(gray)\n",
        "    \n",
        "    # Sort the objects using the SORT algorithm\n",
        "    objects = sort.update(objects)\n",
        "    \n",
        "    # Draw the bounding boxes for each object\n",
        "    for i, obj in enumerate(objects):\n",
        "        x, y, w, h = obj.astype(int)\n",
        "        cv2.rectangle(frame, (x, y), (x + w, y + h), colors[i], 2)\n",
        "        \n",
        "        # Store the position of the object for tracking\n",
        "        if i not in positions:\n",
        "            positions[i] = deque(maxlen=30)\n",
        "        positions[i].appendleft((x + w/2, y + h/2))\n",
        "        \n",
        "    # Draw a trail of the object's previous positions\n",
        "    for i, pos in positions.items():\n",
        "        for j in range(1, len(pos)):\n",
        "            cv2.line(frame, pos[j], pos[j-1], colors[i], 2)\n",
        "            \n",
        "    # Publish the tracked image\n",
        "    image_pub.publish(bridge.cv2_to_imgmsg(frame, encoding='bgr8'))\n",
        "\n",
        "if __name__ == '__main__':\n",
        "    rospy.spin()\n"
      ]
    },
    {
      "cell_type": "markdown",
      "source": [
        "This code assumes that you have a function called detect_objects that takes in a grayscale image and returns a list of bounding boxes for each detected object. You can use any object detection algorithm of your choice for this.\n",
        "\n",
        "The Sort class is a Python implementation of the SORT algorithm for multi-object tracking, which takes in the maximum number of objects to track as an argument and provides an update method that takes in a list of bounding boxes and returns a new list of sorted bounding boxes.\n",
        "\n",
        "The code also uses a dictionary called positions to store the previous positions of each object. The key of the dictionary corresponds to the index of the object in the objects list, and the value is a deque of the object's previous positions.\n",
        "\n",
        "The image_transport package is used to publish the tracked image to a new topic called /tracked_objects. This can be viewed using a ROS image viewer or saved to a ROS bag file for later analysis.\n",
        "\n",
        "\n",
        "\n",
        "\n",
        "\n"
      ],
      "metadata": {
        "id": "z1_hYcBmph1c"
      }
    }
  ]
}